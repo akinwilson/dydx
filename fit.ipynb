{
 "cells": [
  {
   "cell_type": "markdown",
   "metadata": {},
   "source": [
    "# Training MLP model on insurance claims data"
   ]
  },
  {
   "cell_type": "code",
   "execution_count": null,
   "metadata": {},
   "outputs": [
    {
     "name": "stdout",
     "output_type": "stream",
     "text": [
      "dataset seed: 9161703819072728314\n",
      "dataset seed: 4778919979254281917\n",
      "dataset sizes for train, val, test are [112, 32, 16] respectively.\n",
      "dataset sizes for train, val, test are [112, 32, 16] respectively.\n",
      "###############################Training###############################\n",
      "Epoch 0:0 Loss:0.7773135566713206 train accuracy:50.0%\n",
      "Epoch 0:1 Loss:-3.5725754128861816e+32 train accuracy:43.75%\n"
     ]
    }
   ],
   "source": [
    "from dydx.layers import Linear, Loss\n",
    "from dydx.model import Model\n",
    "from dydx.dataset import DataLoader, Dataset\n",
    "\n",
    "l1 = Linear( random=True, dims=(8, 128))\n",
    "l2 = Linear( random=True,dims=(128, 256))\n",
    "l3 = Linear( random=True, dims=(256, 128))\n",
    "l4 = Linear( random=True,dims=(128, 32))\n",
    "l5 = Linear( activation=False, random=True, dims=(32,1)\n",
    ")\n",
    "\n",
    "\t\t\n",
    "names = [\"l1\",\"l2\",\"l3\",\"l4\", \"l5\"]\t\t\n",
    "layers =[l1,l2,l3,l4, l5]\n",
    "ls = dict(zip(names,layers))\n",
    "\n",
    "model = Model(ls) \n",
    "loss = Loss()\n",
    "EPOCHS= 100\n",
    "\n",
    "ds = Dataset(testing=True) # takes 160 examples to overfit model too for testing purposes\n",
    "splits = ['train','val','test']\n",
    "print(f\"dataset sizes for {', '.join(splits)} are {[ds.__len__(split) for split in splits]} respectively.\")\n",
    "dst = ds.train\n",
    "dsv = ds.val\n",
    "dss = ds.test\n",
    "# iterators \n",
    "dltrain  = DataLoader(dst,16)\n",
    "dlval = DataLoader(dsv,16)\n",
    "dltest = DataLoader(dss,16)\n",
    "\n",
    "\n",
    "EARLY_STOPPING = None\n",
    "\n",
    "for epoch in range(EPOCHS):\n",
    "\tprint(\"Training\".center(70,\"#\"))\n",
    "\tfor (idx,xy) in enumerate( dltrain()):\n",
    "\t\tx,y = xy \n",
    "\t\tmodel.zero_grad()\t\n",
    "\t\ty_hat =model(x) \n",
    "\t\t\n",
    "\t\tacc, avg_loss = loss(y,y_hat)\n",
    "\t\tavg_loss.backward()\n",
    "        \n",
    "\t\t\n",
    "\t\tprint(f'Epoch {epoch}:{idx} Loss:{avg_loss.data} train accuracy:{acc*100}%')\n",
    "\t\t\t\n",
    "\t\tlr = 0.00005 \n",
    "\t\tfor p in model.parameters():\n",
    "\t\t\tprint('p.data:', p.data,  'p.grad:',p.grad)\t\t\t\n",
    "\t\t\tp.data = p.data -  lr * p.grad\n",
    "        \n",
    "\t    # model.zero_grad()\n",
    "\n",
    "\tprint(\"Validation\".center(70,\"#\"))\n",
    "\tfor (idx,xy) in enumerate( dlval()):\n",
    "\t\tx,y = xy \n",
    "#\t\t\tfor layer in model.layers:\n",
    "#\t\t\t\tx = layer(x)\n",
    "\t\ty_hat = model(x)\n",
    "\t\tacc, avg_loss= loss(y,y_hat)\n",
    "\t\tprint(f'Epoch {epoch}:{idx} Loss:{avg_loss.data} val accuracy:{acc*100}%')\t\n",
    "\n",
    "# train()"
   ]
  }
 ],
 "metadata": {
  "kernelspec": {
   "display_name": "mlops-hQGy9L_4",
   "language": "python",
   "name": "python3"
  },
  "language_info": {
   "codemirror_mode": {
    "name": "ipython",
    "version": 3
   },
   "file_extension": ".py",
   "mimetype": "text/x-python",
   "name": "python",
   "nbconvert_exporter": "python",
   "pygments_lexer": "ipython3",
   "version": "3.12.3"
  }
 },
 "nbformat": 4,
 "nbformat_minor": 2
}
